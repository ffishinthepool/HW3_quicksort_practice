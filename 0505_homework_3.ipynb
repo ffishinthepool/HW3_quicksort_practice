{
  "nbformat": 4,
  "nbformat_minor": 0,
  "metadata": {
    "colab": {
      "provenance": [],
      "authorship_tag": "ABX9TyPw8bgFXOrn52s0KazQ297J",
      "include_colab_link": true
    },
    "kernelspec": {
      "name": "python3",
      "display_name": "Python 3"
    },
    "language_info": {
      "name": "python"
    }
  },
  "cells": [
    {
      "cell_type": "markdown",
      "metadata": {
        "id": "view-in-github",
        "colab_type": "text"
      },
      "source": [
        "<a href=\"https://colab.research.google.com/github/ffishinthepool/HW3_quicksort_practice/blob/main/0505_homework_3.ipynb\" target=\"_parent\"><img src=\"https://colab.research.google.com/assets/colab-badge.svg\" alt=\"Open In Colab\"/></a>"
      ]
    },
    {
      "cell_type": "code",
      "execution_count": 3,
      "metadata": {
        "colab": {
          "base_uri": "https://localhost:8080/"
        },
        "id": "ZC8H2wDpEg8C",
        "outputId": "4bb1e5f1-31c0-45c5-e238-d1787e2c9e44"
      },
      "outputs": [
        {
          "output_type": "stream",
          "name": "stdout",
          "text": [
            "[25, 3, 13, 8, 119, 33, 41, 67, 54, 84]\n"
          ]
        }
      ],
      "source": [
        "# Quick Sort\n",
        "# 自己寫不出來所以從網路上找資料，來源：https://ithelp.ithome.com.tw/articles/10278644\n",
        "\n",
        "def QuickSort(array, start, end):\n",
        "    if start < end:\n",
        "        pivotIndex = Partition(array, start, end)    # call Partition 得到 rightPointer（ pivotIndex= 右指標位置 ）\n",
        "        QuickSort(array, start, pivotIndex-1)        # 左邊區塊進行快速排序法，再次call QuickSort\n",
        "        QuickSort(array, pivotIndex+1, end)          # 右邊區塊進行快速排序法，再次call QuickSort\n",
        "    return array                                     # 全部結束，回傳排序好的陣列\n",
        "\n",
        "def Partition(array, start, end):\n",
        "    pivot = array[start]       # 選定基準點\n",
        "    leftPointer = start+1      # 放置左指標的位置\n",
        "    rightPointer = end         # 放置右指標的位置\n",
        "    done = False\n",
        "    while (not done):          # 當變數done被改變則停止while迴圈\n",
        "\n",
        "        '''左指標向右移動直到「左指標數值 > 基準點數值」or「 leftPointer = rightPointer(左右指標反轉）」'''\n",
        "        while ( array[leftPointer] <= pivot ) and ( leftPointer != rightPointer ):\n",
        "            leftPointer += 1\n",
        "\n",
        "        '''右指標向左移動直到「右指標數值 < 基準點數值」or「 rightPointer = leftPointer(左右指標反轉）」'''\n",
        "        while ( array[rightPointer] >= pivot ) and ( rightPointer != leftPointer ):\n",
        "            rightPointer -= 1\n",
        "        \n",
        "        '''當右指標 = 左指標時（左右指標反轉），改變變數done => 使while迴圈停止，此輪交換結束\n",
        "           當右指標 != 左指標，左右指標數值交換，while迴圈繼續（左右指標繼續移動）'''\n",
        "        if rightPointer == leftPointer:\n",
        "            done = True\n",
        "        else:\n",
        "            array[leftPointer], array[rightPointer] = array[rightPointer], array[leftPointer]\n",
        "\n",
        "    '''此輪交換結束，基準點和右指標數值交換''' \n",
        "    array[start], array[rightPointer] = array[rightPointer], array[start]\n",
        "    return rightPointer                  # 回傳右指標 rightPointer\n",
        "    \n",
        "        \n",
        "array = [33, 67, 8 , 13, 54, 119, 3, 84, 25, 41]\n",
        "\n",
        "print( QuickSort (array, 0, len(array)-1) )\n"
      ]
    },
    {
      "cell_type": "code",
      "source": [],
      "metadata": {
        "id": "T0VA513pEtAv"
      },
      "execution_count": null,
      "outputs": []
    }
  ]
}